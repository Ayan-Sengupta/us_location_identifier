{
 "cells": [
  {
   "cell_type": "markdown",
   "id": "c0e73371",
   "metadata": {},
   "source": [
    "Load the data"
   ]
  },
  {
   "cell_type": "code",
   "execution_count": 4,
   "id": "983d9973",
   "metadata": {},
   "outputs": [
    {
     "name": "stdout",
     "output_type": "stream",
     "text": [
      "Requirement already satisfied: pandas in /home/ayan/research/.venv/lib/python3.12/site-packages (2.2.3)\n",
      "Requirement already satisfied: numpy>=1.26.0 in /home/ayan/research/.venv/lib/python3.12/site-packages (from pandas) (2.2.4)\n",
      "Requirement already satisfied: python-dateutil>=2.8.2 in /home/ayan/research/.venv/lib/python3.12/site-packages (from pandas) (2.9.0.post0)\n",
      "Requirement already satisfied: pytz>=2020.1 in /home/ayan/research/.venv/lib/python3.12/site-packages (from pandas) (2025.2)\n",
      "Requirement already satisfied: tzdata>=2022.7 in /home/ayan/research/.venv/lib/python3.12/site-packages (from pandas) (2025.2)\n",
      "Requirement already satisfied: six>=1.5 in /home/ayan/research/.venv/lib/python3.12/site-packages (from python-dateutil>=2.8.2->pandas) (1.17.0)\n",
      "Note: you may need to restart the kernel to use updated packages.\n"
     ]
    }
   ],
   "source": [
    "%pip install pandas\n",
    "import pandas as pd"
   ]
  },
  {
   "cell_type": "code",
   "execution_count": 5,
   "id": "dd6770ad",
   "metadata": {},
   "outputs": [],
   "source": [
    "reviewers_df = pd.read_csv('../data/users_with_locations.csv.gz',compression='gzip')"
   ]
  },
  {
   "cell_type": "markdown",
   "id": "734a1c09",
   "metadata": {},
   "source": [
    "explore the data - not too much class imbalance -- XGboost will take care of this."
   ]
  },
  {
   "cell_type": "code",
   "execution_count": 6,
   "id": "1c58948d",
   "metadata": {},
   "outputs": [
    {
     "name": "stdout",
     "output_type": "stream",
     "text": [
      "location_us\n",
      "0    333266\n",
      "1    149620\n",
      "Name: count, dtype: int64\n"
     ]
    }
   ],
   "source": [
    "# look at class balance of the column location_us\n",
    "print(reviewers_df['location_us'].value_counts())\n"
   ]
  },
  {
   "cell_type": "markdown",
   "id": "e7213948",
   "metadata": {},
   "source": [
    "using spacy lets egineer some more features"
   ]
  },
  {
   "cell_type": "code",
   "execution_count": 7,
   "id": "19cdabdd",
   "metadata": {},
   "outputs": [
    {
     "name": "stdout",
     "output_type": "stream",
     "text": [
      "Requirement already satisfied: spacy in /home/ayan/research/.venv/lib/python3.12/site-packages (3.8.5)\n",
      "Requirement already satisfied: spacy-legacy<3.1.0,>=3.0.11 in /home/ayan/research/.venv/lib/python3.12/site-packages (from spacy) (3.0.12)\n",
      "Requirement already satisfied: spacy-loggers<2.0.0,>=1.0.0 in /home/ayan/research/.venv/lib/python3.12/site-packages (from spacy) (1.0.5)\n",
      "Requirement already satisfied: murmurhash<1.1.0,>=0.28.0 in /home/ayan/research/.venv/lib/python3.12/site-packages (from spacy) (1.0.12)\n",
      "Requirement already satisfied: cymem<2.1.0,>=2.0.2 in /home/ayan/research/.venv/lib/python3.12/site-packages (from spacy) (2.0.11)\n",
      "Requirement already satisfied: preshed<3.1.0,>=3.0.2 in /home/ayan/research/.venv/lib/python3.12/site-packages (from spacy) (3.0.9)\n",
      "Requirement already satisfied: thinc<8.4.0,>=8.3.4 in /home/ayan/research/.venv/lib/python3.12/site-packages (from spacy) (8.3.6)\n",
      "Requirement already satisfied: wasabi<1.2.0,>=0.9.1 in /home/ayan/research/.venv/lib/python3.12/site-packages (from spacy) (1.1.3)\n",
      "Requirement already satisfied: srsly<3.0.0,>=2.4.3 in /home/ayan/research/.venv/lib/python3.12/site-packages (from spacy) (2.5.1)\n",
      "Requirement already satisfied: catalogue<2.1.0,>=2.0.6 in /home/ayan/research/.venv/lib/python3.12/site-packages (from spacy) (2.0.10)\n",
      "Requirement already satisfied: weasel<0.5.0,>=0.1.0 in /home/ayan/research/.venv/lib/python3.12/site-packages (from spacy) (0.4.1)\n",
      "Requirement already satisfied: typer<1.0.0,>=0.3.0 in /home/ayan/research/.venv/lib/python3.12/site-packages (from spacy) (0.15.2)\n",
      "Requirement already satisfied: tqdm<5.0.0,>=4.38.0 in /home/ayan/research/.venv/lib/python3.12/site-packages (from spacy) (4.67.1)\n",
      "Requirement already satisfied: numpy>=1.19.0 in /home/ayan/research/.venv/lib/python3.12/site-packages (from spacy) (2.2.4)\n",
      "Requirement already satisfied: requests<3.0.0,>=2.13.0 in /home/ayan/research/.venv/lib/python3.12/site-packages (from spacy) (2.32.3)\n",
      "Requirement already satisfied: pydantic!=1.8,!=1.8.1,<3.0.0,>=1.7.4 in /home/ayan/research/.venv/lib/python3.12/site-packages (from spacy) (2.11.3)\n",
      "Requirement already satisfied: jinja2 in /home/ayan/research/.venv/lib/python3.12/site-packages (from spacy) (3.1.6)\n",
      "Requirement already satisfied: setuptools in /home/ayan/research/.venv/lib/python3.12/site-packages (from spacy) (78.1.0)\n",
      "Requirement already satisfied: packaging>=20.0 in /home/ayan/research/.venv/lib/python3.12/site-packages (from spacy) (24.2)\n",
      "Requirement already satisfied: langcodes<4.0.0,>=3.2.0 in /home/ayan/research/.venv/lib/python3.12/site-packages (from spacy) (3.5.0)\n",
      "Requirement already satisfied: language-data>=1.2 in /home/ayan/research/.venv/lib/python3.12/site-packages (from langcodes<4.0.0,>=3.2.0->spacy) (1.3.0)\n",
      "Requirement already satisfied: annotated-types>=0.6.0 in /home/ayan/research/.venv/lib/python3.12/site-packages (from pydantic!=1.8,!=1.8.1,<3.0.0,>=1.7.4->spacy) (0.7.0)\n",
      "Requirement already satisfied: pydantic-core==2.33.1 in /home/ayan/research/.venv/lib/python3.12/site-packages (from pydantic!=1.8,!=1.8.1,<3.0.0,>=1.7.4->spacy) (2.33.1)\n",
      "Requirement already satisfied: typing-extensions>=4.12.2 in /home/ayan/research/.venv/lib/python3.12/site-packages (from pydantic!=1.8,!=1.8.1,<3.0.0,>=1.7.4->spacy) (4.13.1)\n",
      "Requirement already satisfied: typing-inspection>=0.4.0 in /home/ayan/research/.venv/lib/python3.12/site-packages (from pydantic!=1.8,!=1.8.1,<3.0.0,>=1.7.4->spacy) (0.4.0)\n",
      "Requirement already satisfied: charset-normalizer<4,>=2 in /home/ayan/research/.venv/lib/python3.12/site-packages (from requests<3.0.0,>=2.13.0->spacy) (3.4.1)\n",
      "Requirement already satisfied: idna<4,>=2.5 in /home/ayan/research/.venv/lib/python3.12/site-packages (from requests<3.0.0,>=2.13.0->spacy) (3.10)\n",
      "Requirement already satisfied: urllib3<3,>=1.21.1 in /home/ayan/research/.venv/lib/python3.12/site-packages (from requests<3.0.0,>=2.13.0->spacy) (2.3.0)\n",
      "Requirement already satisfied: certifi>=2017.4.17 in /home/ayan/research/.venv/lib/python3.12/site-packages (from requests<3.0.0,>=2.13.0->spacy) (2025.1.31)\n",
      "Requirement already satisfied: blis<1.4.0,>=1.3.0 in /home/ayan/research/.venv/lib/python3.12/site-packages (from thinc<8.4.0,>=8.3.4->spacy) (1.3.0)\n",
      "Requirement already satisfied: confection<1.0.0,>=0.0.1 in /home/ayan/research/.venv/lib/python3.12/site-packages (from thinc<8.4.0,>=8.3.4->spacy) (0.1.5)\n",
      "Requirement already satisfied: click>=8.0.0 in /home/ayan/research/.venv/lib/python3.12/site-packages (from typer<1.0.0,>=0.3.0->spacy) (8.1.8)\n",
      "Requirement already satisfied: shellingham>=1.3.0 in /home/ayan/research/.venv/lib/python3.12/site-packages (from typer<1.0.0,>=0.3.0->spacy) (1.5.4)\n",
      "Requirement already satisfied: rich>=10.11.0 in /home/ayan/research/.venv/lib/python3.12/site-packages (from typer<1.0.0,>=0.3.0->spacy) (14.0.0)\n",
      "Requirement already satisfied: cloudpathlib<1.0.0,>=0.7.0 in /home/ayan/research/.venv/lib/python3.12/site-packages (from weasel<0.5.0,>=0.1.0->spacy) (0.21.0)\n",
      "Requirement already satisfied: smart-open<8.0.0,>=5.2.1 in /home/ayan/research/.venv/lib/python3.12/site-packages (from weasel<0.5.0,>=0.1.0->spacy) (7.1.0)\n",
      "Requirement already satisfied: MarkupSafe>=2.0 in /home/ayan/research/.venv/lib/python3.12/site-packages (from jinja2->spacy) (3.0.2)\n",
      "Requirement already satisfied: marisa-trie>=1.1.0 in /home/ayan/research/.venv/lib/python3.12/site-packages (from language-data>=1.2->langcodes<4.0.0,>=3.2.0->spacy) (1.2.1)\n",
      "Requirement already satisfied: markdown-it-py>=2.2.0 in /home/ayan/research/.venv/lib/python3.12/site-packages (from rich>=10.11.0->typer<1.0.0,>=0.3.0->spacy) (3.0.0)\n",
      "Requirement already satisfied: pygments<3.0.0,>=2.13.0 in /home/ayan/research/.venv/lib/python3.12/site-packages (from rich>=10.11.0->typer<1.0.0,>=0.3.0->spacy) (2.19.1)\n",
      "Requirement already satisfied: wrapt in /home/ayan/research/.venv/lib/python3.12/site-packages (from smart-open<8.0.0,>=5.2.1->weasel<0.5.0,>=0.1.0->spacy) (1.17.2)\n",
      "Requirement already satisfied: mdurl~=0.1 in /home/ayan/research/.venv/lib/python3.12/site-packages (from markdown-it-py>=2.2.0->rich>=10.11.0->typer<1.0.0,>=0.3.0->spacy) (0.1.2)\n",
      "Note: you may need to restart the kernel to use updated packages.\n",
      "\u001b[31mERROR: Could not find a version that satisfies the requirement re (from versions: none)\u001b[0m\u001b[31m\n",
      "\u001b[0m\u001b[31mERROR: No matching distribution found for re\u001b[0m\u001b[31m\n",
      "\u001b[0mNote: you may need to restart the kernel to use updated packages.\n",
      "Requirement already satisfied: tqdm in /home/ayan/research/.venv/lib/python3.12/site-packages (4.67.1)\n",
      "Note: you may need to restart the kernel to use updated packages.\n",
      "Requirement already satisfied: numpy in /home/ayan/research/.venv/lib/python3.12/site-packages (2.2.4)\n",
      "Note: you may need to restart the kernel to use updated packages.\n",
      "Requirement already satisfied: pip in /home/ayan/research/.venv/lib/python3.12/site-packages (25.0.1)\n",
      "Requirement already satisfied: setuptools in /home/ayan/research/.venv/lib/python3.12/site-packages (78.1.0)\n",
      "Requirement already satisfied: wheel in /home/ayan/research/.venv/lib/python3.12/site-packages (0.46.1)\n",
      "Requirement already satisfied: packaging>=24.0 in /home/ayan/research/.venv/lib/python3.12/site-packages (from wheel) (24.2)\n",
      "Note: you may need to restart the kernel to use updated packages.\n",
      "Requirement already satisfied: spacy in /home/ayan/research/.venv/lib/python3.12/site-packages (3.8.5)\n",
      "Requirement already satisfied: spacy-legacy<3.1.0,>=3.0.11 in /home/ayan/research/.venv/lib/python3.12/site-packages (from spacy) (3.0.12)\n",
      "Requirement already satisfied: spacy-loggers<2.0.0,>=1.0.0 in /home/ayan/research/.venv/lib/python3.12/site-packages (from spacy) (1.0.5)\n",
      "Requirement already satisfied: murmurhash<1.1.0,>=0.28.0 in /home/ayan/research/.venv/lib/python3.12/site-packages (from spacy) (1.0.12)\n",
      "Requirement already satisfied: cymem<2.1.0,>=2.0.2 in /home/ayan/research/.venv/lib/python3.12/site-packages (from spacy) (2.0.11)\n",
      "Requirement already satisfied: preshed<3.1.0,>=3.0.2 in /home/ayan/research/.venv/lib/python3.12/site-packages (from spacy) (3.0.9)\n",
      "Requirement already satisfied: thinc<8.4.0,>=8.3.4 in /home/ayan/research/.venv/lib/python3.12/site-packages (from spacy) (8.3.6)\n",
      "Requirement already satisfied: wasabi<1.2.0,>=0.9.1 in /home/ayan/research/.venv/lib/python3.12/site-packages (from spacy) (1.1.3)\n",
      "Requirement already satisfied: srsly<3.0.0,>=2.4.3 in /home/ayan/research/.venv/lib/python3.12/site-packages (from spacy) (2.5.1)\n",
      "Requirement already satisfied: catalogue<2.1.0,>=2.0.6 in /home/ayan/research/.venv/lib/python3.12/site-packages (from spacy) (2.0.10)\n",
      "Requirement already satisfied: weasel<0.5.0,>=0.1.0 in /home/ayan/research/.venv/lib/python3.12/site-packages (from spacy) (0.4.1)\n",
      "Requirement already satisfied: typer<1.0.0,>=0.3.0 in /home/ayan/research/.venv/lib/python3.12/site-packages (from spacy) (0.15.2)\n",
      "Requirement already satisfied: tqdm<5.0.0,>=4.38.0 in /home/ayan/research/.venv/lib/python3.12/site-packages (from spacy) (4.67.1)\n",
      "Requirement already satisfied: numpy>=1.19.0 in /home/ayan/research/.venv/lib/python3.12/site-packages (from spacy) (2.2.4)\n",
      "Requirement already satisfied: requests<3.0.0,>=2.13.0 in /home/ayan/research/.venv/lib/python3.12/site-packages (from spacy) (2.32.3)\n",
      "Requirement already satisfied: pydantic!=1.8,!=1.8.1,<3.0.0,>=1.7.4 in /home/ayan/research/.venv/lib/python3.12/site-packages (from spacy) (2.11.3)\n",
      "Requirement already satisfied: jinja2 in /home/ayan/research/.venv/lib/python3.12/site-packages (from spacy) (3.1.6)\n",
      "Requirement already satisfied: setuptools in /home/ayan/research/.venv/lib/python3.12/site-packages (from spacy) (78.1.0)\n",
      "Requirement already satisfied: packaging>=20.0 in /home/ayan/research/.venv/lib/python3.12/site-packages (from spacy) (24.2)\n",
      "Requirement already satisfied: langcodes<4.0.0,>=3.2.0 in /home/ayan/research/.venv/lib/python3.12/site-packages (from spacy) (3.5.0)\n",
      "Requirement already satisfied: language-data>=1.2 in /home/ayan/research/.venv/lib/python3.12/site-packages (from langcodes<4.0.0,>=3.2.0->spacy) (1.3.0)\n",
      "Requirement already satisfied: annotated-types>=0.6.0 in /home/ayan/research/.venv/lib/python3.12/site-packages (from pydantic!=1.8,!=1.8.1,<3.0.0,>=1.7.4->spacy) (0.7.0)\n",
      "Requirement already satisfied: pydantic-core==2.33.1 in /home/ayan/research/.venv/lib/python3.12/site-packages (from pydantic!=1.8,!=1.8.1,<3.0.0,>=1.7.4->spacy) (2.33.1)\n",
      "Requirement already satisfied: typing-extensions>=4.12.2 in /home/ayan/research/.venv/lib/python3.12/site-packages (from pydantic!=1.8,!=1.8.1,<3.0.0,>=1.7.4->spacy) (4.13.1)\n",
      "Requirement already satisfied: typing-inspection>=0.4.0 in /home/ayan/research/.venv/lib/python3.12/site-packages (from pydantic!=1.8,!=1.8.1,<3.0.0,>=1.7.4->spacy) (0.4.0)\n",
      "Requirement already satisfied: charset-normalizer<4,>=2 in /home/ayan/research/.venv/lib/python3.12/site-packages (from requests<3.0.0,>=2.13.0->spacy) (3.4.1)\n",
      "Requirement already satisfied: idna<4,>=2.5 in /home/ayan/research/.venv/lib/python3.12/site-packages (from requests<3.0.0,>=2.13.0->spacy) (3.10)\n",
      "Requirement already satisfied: urllib3<3,>=1.21.1 in /home/ayan/research/.venv/lib/python3.12/site-packages (from requests<3.0.0,>=2.13.0->spacy) (2.3.0)\n",
      "Requirement already satisfied: certifi>=2017.4.17 in /home/ayan/research/.venv/lib/python3.12/site-packages (from requests<3.0.0,>=2.13.0->spacy) (2025.1.31)\n",
      "Requirement already satisfied: blis<1.4.0,>=1.3.0 in /home/ayan/research/.venv/lib/python3.12/site-packages (from thinc<8.4.0,>=8.3.4->spacy) (1.3.0)\n",
      "Requirement already satisfied: confection<1.0.0,>=0.0.1 in /home/ayan/research/.venv/lib/python3.12/site-packages (from thinc<8.4.0,>=8.3.4->spacy) (0.1.5)\n",
      "Requirement already satisfied: click>=8.0.0 in /home/ayan/research/.venv/lib/python3.12/site-packages (from typer<1.0.0,>=0.3.0->spacy) (8.1.8)\n",
      "Requirement already satisfied: shellingham>=1.3.0 in /home/ayan/research/.venv/lib/python3.12/site-packages (from typer<1.0.0,>=0.3.0->spacy) (1.5.4)\n",
      "Requirement already satisfied: rich>=10.11.0 in /home/ayan/research/.venv/lib/python3.12/site-packages (from typer<1.0.0,>=0.3.0->spacy) (14.0.0)\n",
      "Requirement already satisfied: cloudpathlib<1.0.0,>=0.7.0 in /home/ayan/research/.venv/lib/python3.12/site-packages (from weasel<0.5.0,>=0.1.0->spacy) (0.21.0)\n",
      "Requirement already satisfied: smart-open<8.0.0,>=5.2.1 in /home/ayan/research/.venv/lib/python3.12/site-packages (from weasel<0.5.0,>=0.1.0->spacy) (7.1.0)\n",
      "Requirement already satisfied: MarkupSafe>=2.0 in /home/ayan/research/.venv/lib/python3.12/site-packages (from jinja2->spacy) (3.0.2)\n",
      "Requirement already satisfied: marisa-trie>=1.1.0 in /home/ayan/research/.venv/lib/python3.12/site-packages (from language-data>=1.2->langcodes<4.0.0,>=3.2.0->spacy) (1.2.1)\n",
      "Requirement already satisfied: markdown-it-py>=2.2.0 in /home/ayan/research/.venv/lib/python3.12/site-packages (from rich>=10.11.0->typer<1.0.0,>=0.3.0->spacy) (3.0.0)\n",
      "Requirement already satisfied: pygments<3.0.0,>=2.13.0 in /home/ayan/research/.venv/lib/python3.12/site-packages (from rich>=10.11.0->typer<1.0.0,>=0.3.0->spacy) (2.19.1)\n",
      "Requirement already satisfied: wrapt in /home/ayan/research/.venv/lib/python3.12/site-packages (from smart-open<8.0.0,>=5.2.1->weasel<0.5.0,>=0.1.0->spacy) (1.17.2)\n",
      "Requirement already satisfied: mdurl~=0.1 in /home/ayan/research/.venv/lib/python3.12/site-packages (from markdown-it-py>=2.2.0->rich>=10.11.0->typer<1.0.0,>=0.3.0->spacy) (0.1.2)\n",
      "Note: you may need to restart the kernel to use updated packages.\n",
      "Requirement already satisfied: spacy-transformers in /home/ayan/research/.venv/lib/python3.12/site-packages (1.3.8)\n",
      "Requirement already satisfied: spacy<4.1.0,>=3.5.0 in /home/ayan/research/.venv/lib/python3.12/site-packages (from spacy-transformers) (3.8.5)\n",
      "Requirement already satisfied: numpy>=1.19.0 in /home/ayan/research/.venv/lib/python3.12/site-packages (from spacy-transformers) (2.2.4)\n",
      "Requirement already satisfied: transformers<4.50.0,>=3.4.0 in /home/ayan/research/.venv/lib/python3.12/site-packages (from spacy-transformers) (4.49.0)\n",
      "Requirement already satisfied: torch>=1.8.0 in /home/ayan/research/.venv/lib/python3.12/site-packages (from spacy-transformers) (2.6.0)\n",
      "Requirement already satisfied: srsly<3.0.0,>=2.4.0 in /home/ayan/research/.venv/lib/python3.12/site-packages (from spacy-transformers) (2.5.1)\n",
      "Requirement already satisfied: spacy-alignments<1.0.0,>=0.7.2 in /home/ayan/research/.venv/lib/python3.12/site-packages (from spacy-transformers) (0.9.1)\n",
      "Requirement already satisfied: spacy-legacy<3.1.0,>=3.0.11 in /home/ayan/research/.venv/lib/python3.12/site-packages (from spacy<4.1.0,>=3.5.0->spacy-transformers) (3.0.12)\n",
      "Requirement already satisfied: spacy-loggers<2.0.0,>=1.0.0 in /home/ayan/research/.venv/lib/python3.12/site-packages (from spacy<4.1.0,>=3.5.0->spacy-transformers) (1.0.5)\n",
      "Requirement already satisfied: murmurhash<1.1.0,>=0.28.0 in /home/ayan/research/.venv/lib/python3.12/site-packages (from spacy<4.1.0,>=3.5.0->spacy-transformers) (1.0.12)\n",
      "Requirement already satisfied: cymem<2.1.0,>=2.0.2 in /home/ayan/research/.venv/lib/python3.12/site-packages (from spacy<4.1.0,>=3.5.0->spacy-transformers) (2.0.11)\n",
      "Requirement already satisfied: preshed<3.1.0,>=3.0.2 in /home/ayan/research/.venv/lib/python3.12/site-packages (from spacy<4.1.0,>=3.5.0->spacy-transformers) (3.0.9)\n",
      "Requirement already satisfied: thinc<8.4.0,>=8.3.4 in /home/ayan/research/.venv/lib/python3.12/site-packages (from spacy<4.1.0,>=3.5.0->spacy-transformers) (8.3.6)\n",
      "Requirement already satisfied: wasabi<1.2.0,>=0.9.1 in /home/ayan/research/.venv/lib/python3.12/site-packages (from spacy<4.1.0,>=3.5.0->spacy-transformers) (1.1.3)\n",
      "Requirement already satisfied: catalogue<2.1.0,>=2.0.6 in /home/ayan/research/.venv/lib/python3.12/site-packages (from spacy<4.1.0,>=3.5.0->spacy-transformers) (2.0.10)\n",
      "Requirement already satisfied: weasel<0.5.0,>=0.1.0 in /home/ayan/research/.venv/lib/python3.12/site-packages (from spacy<4.1.0,>=3.5.0->spacy-transformers) (0.4.1)\n",
      "Requirement already satisfied: typer<1.0.0,>=0.3.0 in /home/ayan/research/.venv/lib/python3.12/site-packages (from spacy<4.1.0,>=3.5.0->spacy-transformers) (0.15.2)\n",
      "Requirement already satisfied: tqdm<5.0.0,>=4.38.0 in /home/ayan/research/.venv/lib/python3.12/site-packages (from spacy<4.1.0,>=3.5.0->spacy-transformers) (4.67.1)\n",
      "Requirement already satisfied: requests<3.0.0,>=2.13.0 in /home/ayan/research/.venv/lib/python3.12/site-packages (from spacy<4.1.0,>=3.5.0->spacy-transformers) (2.32.3)\n",
      "Requirement already satisfied: pydantic!=1.8,!=1.8.1,<3.0.0,>=1.7.4 in /home/ayan/research/.venv/lib/python3.12/site-packages (from spacy<4.1.0,>=3.5.0->spacy-transformers) (2.11.3)\n",
      "Requirement already satisfied: jinja2 in /home/ayan/research/.venv/lib/python3.12/site-packages (from spacy<4.1.0,>=3.5.0->spacy-transformers) (3.1.6)\n",
      "Requirement already satisfied: setuptools in /home/ayan/research/.venv/lib/python3.12/site-packages (from spacy<4.1.0,>=3.5.0->spacy-transformers) (78.1.0)\n",
      "Requirement already satisfied: packaging>=20.0 in /home/ayan/research/.venv/lib/python3.12/site-packages (from spacy<4.1.0,>=3.5.0->spacy-transformers) (24.2)\n",
      "Requirement already satisfied: langcodes<4.0.0,>=3.2.0 in /home/ayan/research/.venv/lib/python3.12/site-packages (from spacy<4.1.0,>=3.5.0->spacy-transformers) (3.5.0)\n",
      "Requirement already satisfied: filelock in /home/ayan/research/.venv/lib/python3.12/site-packages (from torch>=1.8.0->spacy-transformers) (3.18.0)\n",
      "Requirement already satisfied: typing-extensions>=4.10.0 in /home/ayan/research/.venv/lib/python3.12/site-packages (from torch>=1.8.0->spacy-transformers) (4.13.1)\n",
      "Requirement already satisfied: networkx in /home/ayan/research/.venv/lib/python3.12/site-packages (from torch>=1.8.0->spacy-transformers) (3.4.2)\n",
      "Requirement already satisfied: fsspec in /home/ayan/research/.venv/lib/python3.12/site-packages (from torch>=1.8.0->spacy-transformers) (2025.3.2)\n",
      "Requirement already satisfied: nvidia-cuda-nvrtc-cu12==12.4.127 in /home/ayan/research/.venv/lib/python3.12/site-packages (from torch>=1.8.0->spacy-transformers) (12.4.127)\n",
      "Requirement already satisfied: nvidia-cuda-runtime-cu12==12.4.127 in /home/ayan/research/.venv/lib/python3.12/site-packages (from torch>=1.8.0->spacy-transformers) (12.4.127)\n",
      "Requirement already satisfied: nvidia-cuda-cupti-cu12==12.4.127 in /home/ayan/research/.venv/lib/python3.12/site-packages (from torch>=1.8.0->spacy-transformers) (12.4.127)\n",
      "Requirement already satisfied: nvidia-cudnn-cu12==9.1.0.70 in /home/ayan/research/.venv/lib/python3.12/site-packages (from torch>=1.8.0->spacy-transformers) (9.1.0.70)\n",
      "Requirement already satisfied: nvidia-cublas-cu12==12.4.5.8 in /home/ayan/research/.venv/lib/python3.12/site-packages (from torch>=1.8.0->spacy-transformers) (12.4.5.8)\n",
      "Requirement already satisfied: nvidia-cufft-cu12==11.2.1.3 in /home/ayan/research/.venv/lib/python3.12/site-packages (from torch>=1.8.0->spacy-transformers) (11.2.1.3)\n",
      "Requirement already satisfied: nvidia-curand-cu12==10.3.5.147 in /home/ayan/research/.venv/lib/python3.12/site-packages (from torch>=1.8.0->spacy-transformers) (10.3.5.147)\n",
      "Requirement already satisfied: nvidia-cusolver-cu12==11.6.1.9 in /home/ayan/research/.venv/lib/python3.12/site-packages (from torch>=1.8.0->spacy-transformers) (11.6.1.9)\n",
      "Requirement already satisfied: nvidia-cusparse-cu12==12.3.1.170 in /home/ayan/research/.venv/lib/python3.12/site-packages (from torch>=1.8.0->spacy-transformers) (12.3.1.170)\n",
      "Requirement already satisfied: nvidia-cusparselt-cu12==0.6.2 in /home/ayan/research/.venv/lib/python3.12/site-packages (from torch>=1.8.0->spacy-transformers) (0.6.2)\n",
      "Requirement already satisfied: nvidia-nccl-cu12==2.21.5 in /home/ayan/research/.venv/lib/python3.12/site-packages (from torch>=1.8.0->spacy-transformers) (2.21.5)\n",
      "Requirement already satisfied: nvidia-nvtx-cu12==12.4.127 in /home/ayan/research/.venv/lib/python3.12/site-packages (from torch>=1.8.0->spacy-transformers) (12.4.127)\n",
      "Requirement already satisfied: nvidia-nvjitlink-cu12==12.4.127 in /home/ayan/research/.venv/lib/python3.12/site-packages (from torch>=1.8.0->spacy-transformers) (12.4.127)\n",
      "Requirement already satisfied: triton==3.2.0 in /home/ayan/research/.venv/lib/python3.12/site-packages (from torch>=1.8.0->spacy-transformers) (3.2.0)\n",
      "Requirement already satisfied: sympy==1.13.1 in /home/ayan/research/.venv/lib/python3.12/site-packages (from torch>=1.8.0->spacy-transformers) (1.13.1)\n",
      "Requirement already satisfied: mpmath<1.4,>=1.1.0 in /home/ayan/research/.venv/lib/python3.12/site-packages (from sympy==1.13.1->torch>=1.8.0->spacy-transformers) (1.3.0)\n",
      "Requirement already satisfied: huggingface-hub<1.0,>=0.26.0 in /home/ayan/research/.venv/lib/python3.12/site-packages (from transformers<4.50.0,>=3.4.0->spacy-transformers) (0.30.2)\n",
      "Requirement already satisfied: pyyaml>=5.1 in /home/ayan/research/.venv/lib/python3.12/site-packages (from transformers<4.50.0,>=3.4.0->spacy-transformers) (6.0.2)\n",
      "Requirement already satisfied: regex!=2019.12.17 in /home/ayan/research/.venv/lib/python3.12/site-packages (from transformers<4.50.0,>=3.4.0->spacy-transformers) (2024.11.6)\n",
      "Requirement already satisfied: tokenizers<0.22,>=0.21 in /home/ayan/research/.venv/lib/python3.12/site-packages (from transformers<4.50.0,>=3.4.0->spacy-transformers) (0.21.1)\n",
      "Requirement already satisfied: safetensors>=0.4.1 in /home/ayan/research/.venv/lib/python3.12/site-packages (from transformers<4.50.0,>=3.4.0->spacy-transformers) (0.5.3)\n",
      "Requirement already satisfied: language-data>=1.2 in /home/ayan/research/.venv/lib/python3.12/site-packages (from langcodes<4.0.0,>=3.2.0->spacy<4.1.0,>=3.5.0->spacy-transformers) (1.3.0)\n",
      "Requirement already satisfied: annotated-types>=0.6.0 in /home/ayan/research/.venv/lib/python3.12/site-packages (from pydantic!=1.8,!=1.8.1,<3.0.0,>=1.7.4->spacy<4.1.0,>=3.5.0->spacy-transformers) (0.7.0)\n",
      "Requirement already satisfied: pydantic-core==2.33.1 in /home/ayan/research/.venv/lib/python3.12/site-packages (from pydantic!=1.8,!=1.8.1,<3.0.0,>=1.7.4->spacy<4.1.0,>=3.5.0->spacy-transformers) (2.33.1)\n",
      "Requirement already satisfied: typing-inspection>=0.4.0 in /home/ayan/research/.venv/lib/python3.12/site-packages (from pydantic!=1.8,!=1.8.1,<3.0.0,>=1.7.4->spacy<4.1.0,>=3.5.0->spacy-transformers) (0.4.0)\n",
      "Requirement already satisfied: charset-normalizer<4,>=2 in /home/ayan/research/.venv/lib/python3.12/site-packages (from requests<3.0.0,>=2.13.0->spacy<4.1.0,>=3.5.0->spacy-transformers) (3.4.1)\n",
      "Requirement already satisfied: idna<4,>=2.5 in /home/ayan/research/.venv/lib/python3.12/site-packages (from requests<3.0.0,>=2.13.0->spacy<4.1.0,>=3.5.0->spacy-transformers) (3.10)\n",
      "Requirement already satisfied: urllib3<3,>=1.21.1 in /home/ayan/research/.venv/lib/python3.12/site-packages (from requests<3.0.0,>=2.13.0->spacy<4.1.0,>=3.5.0->spacy-transformers) (2.3.0)\n",
      "Requirement already satisfied: certifi>=2017.4.17 in /home/ayan/research/.venv/lib/python3.12/site-packages (from requests<3.0.0,>=2.13.0->spacy<4.1.0,>=3.5.0->spacy-transformers) (2025.1.31)\n",
      "Requirement already satisfied: blis<1.4.0,>=1.3.0 in /home/ayan/research/.venv/lib/python3.12/site-packages (from thinc<8.4.0,>=8.3.4->spacy<4.1.0,>=3.5.0->spacy-transformers) (1.3.0)\n",
      "Requirement already satisfied: confection<1.0.0,>=0.0.1 in /home/ayan/research/.venv/lib/python3.12/site-packages (from thinc<8.4.0,>=8.3.4->spacy<4.1.0,>=3.5.0->spacy-transformers) (0.1.5)\n",
      "Requirement already satisfied: click>=8.0.0 in /home/ayan/research/.venv/lib/python3.12/site-packages (from typer<1.0.0,>=0.3.0->spacy<4.1.0,>=3.5.0->spacy-transformers) (8.1.8)\n",
      "Requirement already satisfied: shellingham>=1.3.0 in /home/ayan/research/.venv/lib/python3.12/site-packages (from typer<1.0.0,>=0.3.0->spacy<4.1.0,>=3.5.0->spacy-transformers) (1.5.4)\n",
      "Requirement already satisfied: rich>=10.11.0 in /home/ayan/research/.venv/lib/python3.12/site-packages (from typer<1.0.0,>=0.3.0->spacy<4.1.0,>=3.5.0->spacy-transformers) (14.0.0)\n",
      "Requirement already satisfied: cloudpathlib<1.0.0,>=0.7.0 in /home/ayan/research/.venv/lib/python3.12/site-packages (from weasel<0.5.0,>=0.1.0->spacy<4.1.0,>=3.5.0->spacy-transformers) (0.21.0)\n",
      "Requirement already satisfied: smart-open<8.0.0,>=5.2.1 in /home/ayan/research/.venv/lib/python3.12/site-packages (from weasel<0.5.0,>=0.1.0->spacy<4.1.0,>=3.5.0->spacy-transformers) (7.1.0)\n",
      "Requirement already satisfied: MarkupSafe>=2.0 in /home/ayan/research/.venv/lib/python3.12/site-packages (from jinja2->spacy<4.1.0,>=3.5.0->spacy-transformers) (3.0.2)\n",
      "Requirement already satisfied: marisa-trie>=1.1.0 in /home/ayan/research/.venv/lib/python3.12/site-packages (from language-data>=1.2->langcodes<4.0.0,>=3.2.0->spacy<4.1.0,>=3.5.0->spacy-transformers) (1.2.1)\n",
      "Requirement already satisfied: markdown-it-py>=2.2.0 in /home/ayan/research/.venv/lib/python3.12/site-packages (from rich>=10.11.0->typer<1.0.0,>=0.3.0->spacy<4.1.0,>=3.5.0->spacy-transformers) (3.0.0)\n",
      "Requirement already satisfied: pygments<3.0.0,>=2.13.0 in /home/ayan/research/.venv/lib/python3.12/site-packages (from rich>=10.11.0->typer<1.0.0,>=0.3.0->spacy<4.1.0,>=3.5.0->spacy-transformers) (2.19.1)\n",
      "Requirement already satisfied: wrapt in /home/ayan/research/.venv/lib/python3.12/site-packages (from smart-open<8.0.0,>=5.2.1->weasel<0.5.0,>=0.1.0->spacy<4.1.0,>=3.5.0->spacy-transformers) (1.17.2)\n",
      "Requirement already satisfied: mdurl~=0.1 in /home/ayan/research/.venv/lib/python3.12/site-packages (from markdown-it-py>=2.2.0->rich>=10.11.0->typer<1.0.0,>=0.3.0->spacy<4.1.0,>=3.5.0->spacy-transformers) (0.1.2)\n",
      "Note: you may need to restart the kernel to use updated packages.\n"
     ]
    }
   ],
   "source": [
    "%pip install spacy\n",
    "%pip install re \n",
    "%pip install tqdm\n",
    "%pip install numpy\n",
    "%pip install -U pip setuptools wheel\n",
    "%pip install -U spacy\n",
    "%pip install -U spacy-transformers"
   ]
  },
  {
   "cell_type": "code",
   "execution_count": 8,
   "id": "b9c7f802",
   "metadata": {},
   "outputs": [],
   "source": [
    "import spacy\n",
    "import re\n",
    "import numpy as np\n",
    "from tqdm import tqdm"
   ]
  },
  {
   "cell_type": "code",
   "execution_count": 9,
   "id": "a2f97200",
   "metadata": {},
   "outputs": [
    {
     "name": "stdout",
     "output_type": "stream",
     "text": [
      "Collecting en-core-web-sm==3.8.0\n",
      "  Downloading https://github.com/explosion/spacy-models/releases/download/en_core_web_sm-3.8.0/en_core_web_sm-3.8.0-py3-none-any.whl (12.8 MB)\n",
      "\u001b[2K     \u001b[90m━━━━━━━━━━━━━━━━━━━━━━━━━━━━━━━━━━━━━━━━\u001b[0m \u001b[32m12.8/12.8 MB\u001b[0m \u001b[31m23.0 MB/s\u001b[0m eta \u001b[36m0:00:00\u001b[0m \u001b[36m0:00:01\u001b[0m\n",
      "\u001b[?25h\u001b[38;5;2m✔ Download and installation successful\u001b[0m\n",
      "You can now load the package via spacy.load('en_core_web_sm')\n"
     ]
    },
    {
     "data": {
      "text/plain": [
       "0"
      ]
     },
     "execution_count": 9,
     "metadata": {},
     "output_type": "execute_result"
    }
   ],
   "source": [
    "import subprocess\n",
    "import sys\n",
    "subprocess.check_call([sys.executable, \"-m\", \"spacy\", \"download\", \"en_core_web_sm\"])"
   ]
  },
  {
   "cell_type": "code",
   "execution_count": 10,
   "id": "ef7bab08",
   "metadata": {},
   "outputs": [
    {
     "name": "stdout",
     "output_type": "stream",
     "text": [
      "Requirement already satisfied: langdetect in /home/ayan/research/.venv/lib/python3.12/site-packages (1.0.9)\n",
      "Requirement already satisfied: six in /home/ayan/research/.venv/lib/python3.12/site-packages (from langdetect) (1.17.0)\n",
      "Note: you may need to restart the kernel to use updated packages.\n"
     ]
    }
   ],
   "source": [
    "%pip install langdetect"
   ]
  },
  {
   "cell_type": "code",
   "execution_count": 11,
   "id": "26d7361a",
   "metadata": {},
   "outputs": [],
   "source": [
    "from langdetect import detect, DetectorFactory\n",
    "from langdetect.lang_detect_exception import LangDetectException"
   ]
  },
  {
   "cell_type": "code",
   "execution_count": 12,
   "id": "7384a077",
   "metadata": {},
   "outputs": [
    {
     "name": "stdout",
     "output_type": "stream",
     "text": [
      "Loading spaCy model...\n"
     ]
    },
    {
     "name": "stderr",
     "output_type": "stream",
     "text": [
      "Detecting English bios: 100%|██████████| 482886/482886 [10:20<00:00, 777.71it/s] \n",
      "Processing bios: 100%|██████████| 213/213 [04:49<00:00,  1.36s/it]\n",
      "/tmp/ipykernel_92824/2377693858.py:132: SettingWithCopyWarning: \n",
      "A value is trying to be set on a copy of a slice from a DataFrame.\n",
      "Try using .loc[row_indexer,col_indexer] = value instead\n",
      "\n",
      "See the caveats in the documentation: https://pandas.pydata.org/pandas-docs/stable/user_guide/indexing.html#returning-a-view-versus-a-copy\n",
      "  english_df['spacy_location'] = spacy_locations\n",
      "/tmp/ipykernel_92824/2377693858.py:135: SettingWithCopyWarning: \n",
      "A value is trying to be set on a copy of a slice from a DataFrame.\n",
      "Try using .loc[row_indexer,col_indexer] = value instead\n",
      "\n",
      "See the caveats in the documentation: https://pandas.pydata.org/pandas-docs/stable/user_guide/indexing.html#returning-a-view-versus-a-copy\n",
      "  english_df['spacy_us_location'] = english_df['spacy_location'].apply(lambda loc: int(is_us_location(loc)))\n"
     ]
    }
   ],
   "source": [
    "# Load spaCy transformer model\n",
    "print(\"Loading spaCy model...\")\n",
    "nlp = spacy.load(\"en_core_web_sm\")\n",
    "\n",
    "# US cities and states for validation/lookup\n",
    "us_states = set([\n",
    "    \"alabama\", \"alaska\", \"arizona\", \"arkansas\", \"california\", \"colorado\", \n",
    "    \"connecticut\", \"delaware\", \"florida\", \"georgia\", \"hawaii\", \"idaho\", \n",
    "    \"illinois\", \"indiana\", \"iowa\", \"kansas\", \"kentucky\", \"louisiana\", \n",
    "    \"maine\", \"maryland\", \"massachusetts\", \"michigan\", \"minnesota\", \n",
    "    \"mississippi\", \"missouri\", \"montana\", \"nebraska\", \"nevada\", \n",
    "    \"new hampshire\", \"new jersey\", \"new mexico\", \"new york\", \"north carolina\", \n",
    "    \"north dakota\", \"ohio\", \"oklahoma\", \"oregon\", \"pennsylvania\", \n",
    "    \"rhode island\", \"south carolina\", \"south dakota\", \"tennessee\", \"texas\", \n",
    "    \"utah\", \"vermont\", \"virginia\", \"washington\", \"west virginia\", \n",
    "    \"wisconsin\", \"wyoming\", \"dc\", \"district of columbia\"\n",
    "])\n",
    "# Add state abbreviations\n",
    "state_abbrevs = {\n",
    "    \"al\", \"ak\", \"az\", \"ar\", \"ca\", \"co\", \"ct\", \"de\", \"fl\", \"ga\", \"hi\", \"id\",\n",
    "    \"il\", \"in\", \"ia\", \"ks\", \"ky\", \"la\", \"me\", \"md\", \"ma\", \"mi\", \"mn\", \"ms\",\n",
    "    \"mo\", \"mt\", \"ne\", \"nv\", \"nh\", \"nj\", \"nm\", \"ny\", \"nc\", \"nd\", \"oh\", \"ok\",\n",
    "    \"or\", \"pa\", \"ri\", \"sc\", \"sd\", \"tn\", \"tx\", \"ut\", \"vt\", \"va\", \"wa\", \"wv\",\n",
    "    \"wi\", \"wy\", \"dc\"\n",
    "}\n",
    "us_states.update(state_abbrevs)\n",
    "\n",
    "# Top 100 US cities by population\n",
    "top_us_cities = {\n",
    "    \"new york\", \"los angeles\", \"chicago\", \"houston\", \"phoenix\", \"philadelphia\",\n",
    "    \"san antonio\", \"san diego\", \"dallas\", \"san jose\", \"austin\", \"jacksonville\",\n",
    "    \"fort worth\", \"columbus\", \"charlotte\", \"indianapolis\", \"san francisco\",\n",
    "    \"seattle\", \"denver\", \"washington\", \"boston\", \"el paso\", \"nashville\",\n",
    "    \"detroit\", \"oklahoma city\", \"portland\", \"las vegas\", \"memphis\", \"louisville\",\n",
    "    \"baltimore\", \"milwaukee\", \"albuquerque\", \"tucson\", \"fresno\", \"sacramento\",\n",
    "    \"kansas city\", \"mesa\", \"atlanta\", \"omaha\", \"colorado springs\", \"raleigh\",\n",
    "    \"miami\", \"long beach\", \"virginia beach\", \"oakland\", \"minneapolis\", \"tampa\",\n",
    "    \"tulsa\", \"arlington\", \"wichita\", \"cleveland\", \"bakersfield\", \"aurora\", \n",
    "    \"new orleans\", \"honolulu\", \"anaheim\", \"tampa\", \"pittsburgh\", \"cincinnati\",\n",
    "    \"st louis\", \"riverside\", \"corpus christi\", \"lexington\", \"anchorage\",\n",
    "    \"stockton\", \"toledo\", \"st paul\", \"newark\", \"greensboro\", \"buffalo\", \n",
    "    \"plano\", \"lincoln\", \"henderson\", \"fort wayne\", \"jersey city\", \"st petersburg\",\n",
    "    \"chula vista\", \"orlando\", \"durham\", \"chandler\", \"laredo\", \"madison\", \"lubbock\",\n",
    "    \"scottsdale\", \"reno\", \"glendale\", \"boise\", \"richmond\", \"baton rouge\", \"irvine\", \n",
    "    \"spokane\", \"tacoma\", \"irving\", \"hialeah\", \"fremont\", \"birmingham\",\n",
    "    \"rochester\", \"san bernardino\", \"boise city\"\n",
    "}\n",
    "state_pattern = re.compile(r\"[A-Za-z\\s]+,\\s*([A-Z]{2})\")\n",
    "zip_pattern = re.compile(r\"\\b\\d{5}(?:-\\d{4})?\\b\")\n",
    "\n",
    "# Ensure consistent language detection results\n",
    "DetectorFactory.seed = 42\n",
    "\n",
    "def is_english(text):\n",
    "    \"\"\"\n",
    "    Detect if the given text is in English.\n",
    "    Returns True if the text is in English, False otherwise.\n",
    "    \"\"\"\n",
    "    try:\n",
    "        return detect(text) == \"en\"\n",
    "    except LangDetectException:\n",
    "        return False\n",
    "\n",
    "# Function to check if a location is in the US\n",
    "def is_us_location(location_text):\n",
    "    if not location_text:\n",
    "        return False\n",
    "        \n",
    "    location_lower = location_text.lower()\n",
    "    \n",
    "    # Direct state or city match\n",
    "    if any(state in location_lower.split() for state in us_states) or \\\n",
    "       any(city in location_lower for city in top_us_cities):\n",
    "        return True\n",
    "    \n",
    "    # Check for state pattern (City, ST)\n",
    "    state_match = state_pattern.search( location_text)\n",
    "    if state_match and state_match.group(1).lower() in state_abbrevs:\n",
    "        return True\n",
    "    \n",
    "    # Check for zip code pattern\n",
    "    if zip_pattern.search(location_text):\n",
    "        return True\n",
    "    \n",
    "    # Check for USA/America mentions\n",
    "    us_terms = [\"usa\", \"america\", \"united states\", \"u.s.\", \"u.s.a.\"]\n",
    "    if any(term in location_lower for term in us_terms):\n",
    "        return True\n",
    "        \n",
    "    return False\n",
    "\n",
    "# Function to extract location from bio text using spaCy\n",
    "def extract_locations_in_batch(texts, nlp_model):\n",
    "    \"\"\"\n",
    "    Extract locations from a batch of texts using spaCy's pipe.\n",
    "    \"\"\"\n",
    "    locations = []\n",
    "    for doc in nlp_model.pipe(texts, batch_size=1000):  # Adjust batch_size as needed\n",
    "        locs = [ent.text for ent in doc.ents if ent.label_ in [\"GPE\", \"LOC\"]]\n",
    "        locations.append(locs[0] if locs else \"nil\")\n",
    "    return locations\n",
    "\n",
    "# Function to add location columns to dataframe\n",
    "def add_location_columns(df, nlp_model, batch_size=1000):\n",
    "    \"\"\"\n",
    "    Process dataframe and add location columns using spaCy's pipe for batch processing.\n",
    "\n",
    "\n",
    "    \"\"\"\n",
    "    #Replace NaN or non-string values in 'full_bio' with an empty string\n",
    "    df['full_bio'] = df['full_bio'].fillna(\"\").astype(str)\n",
    "\n",
    "    # Detect language and filter for English bios -show a progress bar\n",
    "    tqdm.pandas(desc=\"Detecting English bios\")\n",
    "    # Use apply with tqdm to show progress\n",
    "    # Use a lambda function to apply the is_english function to each bio\n",
    "    english_df = df[df['full_bio'].progress_apply(lambda x: is_english(x))]\n",
    "    \n",
    "    # Process in batches\n",
    "    total_batches = (len(english_df) + batch_size - 1) // batch_size\n",
    "    spacy_locations = []\n",
    "    \n",
    "    for i in tqdm(range(total_batches), desc=\"Processing bios\"):\n",
    "        start_idx = i * batch_size\n",
    "        end_idx = min((i + 1) * batch_size, len(english_df))\n",
    "        batch = english_df['full_bio'].iloc[start_idx:end_idx]\n",
    "        \n",
    "        # Extract locations in batch\n",
    "        spacy_locations.extend(extract_locations_in_batch(batch, nlp_model))\n",
    "    \n",
    "    # Add extracted locations to the DataFrame\n",
    "    english_df['spacy_location'] = spacy_locations\n",
    "    \n",
    "    # Check if the extracted location is in the US\n",
    "    english_df['spacy_us_location'] = english_df['spacy_location'].apply(lambda loc: int(is_us_location(loc)))\n",
    "    # Merge results back into the original DataFrame\n",
    "    df = df.merge(english_df[['spacy_location', 'spacy_us_location']], how='left', left_index=True, right_index=True)\n",
    "    df['spacy_location'] = df['spacy_location'].fillna(\"nil\")\n",
    "    df['spacy_us_location'] = df['spacy_us_location'].fillna(0)\n",
    "    \n",
    "    return df\n",
    "\n",
    "\n",
    "engineered_df = add_location_columns(reviewers_df, nlp, batch_size=1000)\n",
    "\n",
    "\n",
    "\n"
   ]
  },
  {
   "cell_type": "code",
   "execution_count": null,
   "id": "b3e8d680",
   "metadata": {},
   "outputs": [],
   "source": [
    "# save the processed dataframe to a new CSV file\n",
    "engineered_df.to_csv('../data/engineered_users_with_locations_sm.csv.gz', index=False, compression='gzip')\n",
    "\n"
   ]
  },
  {
   "cell_type": "code",
   "execution_count": null,
   "id": "c491c09c",
   "metadata": {},
   "outputs": [
    {
     "name": "stdout",
     "output_type": "stream",
     "text": [
      "(482886, 108)\n",
      "Number of records where location_us is 0 and spacy_us_location is 1:\n",
      "356\n",
      "                                               full_bio  \\\n",
      "466   San Francisco-based Afghan-American artist and...   \n",
      "1296  I run The Goodbye Look, a jazz pop-up series i...   \n",
      "1432  I like standup, sad shit, and musicals and i w...   \n",
      "1773   1oneam   I chat so much Yet know so little In VA   \n",
      "2453  Blu Ray and Dvd Collector .. I live In New Yor...   \n",
      "\n",
      "                                               metadata spacy_location  \n",
      "466   California;1001-films.blogspot.com : https://1...  San Francisco  \n",
      "1296  Seattle;petergraham.world : http://www.petergr...        Seattle  \n",
      "1432  Richmond, Virginia;222sammm : https://twitter....  San Francisco  \n",
      "1773                                                AVA             VA  \n",
      "2453  Brooklyn, NY;youtube.com : http://youtube.com/...  New York City  \n"
     ]
    }
   ],
   "source": [
    "print(engineered_df.shape)\n",
    "# couint the number of records where locattion_us is 0 but spacy_us_location is 1\n",
    "print(\"Number of records where location_us is 0 and spacy_us_location is 1:\")\n",
    "print(len(engineered_df[(engineered_df['location_us'] == 0) & (engineered_df['spacy_us_location'] == 1)]))\n",
    "\n",
    "# #show the full bio and meta columns of these records\n",
    "print(engineered_df[(engineered_df['location_us'] == 1) & (engineered_df['spacy_us_location'] == 1)][['full_bio', 'metadata','spacy_location','location_us']].head())\n"
   ]
  },
  {
   "cell_type": "code",
   "execution_count": null,
   "id": "9561ab1f",
   "metadata": {},
   "outputs": [
    {
     "name": "stdout",
     "output_type": "stream",
     "text": [
      "Number of records in the original dataframe:\n",
      "(482886, 108)\n",
      "Number of records in the processed dataframe:\n",
      "(482886, 108)\n"
     ]
    }
   ],
   "source": []
  }
 ],
 "metadata": {
  "kernelspec": {
   "display_name": ".venv",
   "language": "python",
   "name": "python3"
  },
  "language_info": {
   "codemirror_mode": {
    "name": "ipython",
    "version": 3
   },
   "file_extension": ".py",
   "mimetype": "text/x-python",
   "name": "python",
   "nbconvert_exporter": "python",
   "pygments_lexer": "ipython3",
   "version": "3.12.3"
  }
 },
 "nbformat": 4,
 "nbformat_minor": 5
}
