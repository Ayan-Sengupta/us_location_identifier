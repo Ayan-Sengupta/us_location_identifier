{
 "cells": [
  {
   "cell_type": "markdown",
   "id": "c0e73371",
   "metadata": {},
   "source": [
    "Load the data"
   ]
  },
  {
   "cell_type": "code",
   "execution_count": 1,
   "id": "d64035af",
   "metadata": {},
   "outputs": [
    {
     "data": {
      "text/plain": [
       "'/home/ayan/research/us_location_identifier/src'"
      ]
     },
     "execution_count": 1,
     "metadata": {},
     "output_type": "execute_result"
    }
   ],
   "source": [
    "import os \n",
    "os.getcwd()"
   ]
  },
  {
   "cell_type": "code",
   "execution_count": 2,
   "id": "13dc4bc4",
   "metadata": {},
   "outputs": [],
   "source": [
    "import pandas as pd\n"
   ]
  },
  {
   "cell_type": "code",
   "execution_count": 3,
   "id": "2203c167",
   "metadata": {},
   "outputs": [],
   "source": [
    " \n",
    "df = pd.read_csv('../data/users_with_locations.csv.gz',compression='gzip')\n",
    "df_en = pd.read_csv('../data/featureEngineered/users_with_locations_sm.csv.gz',compression='gzip')\n"
   ]
  },
  {
   "cell_type": "code",
   "execution_count": 5,
   "id": "66c55df6",
   "metadata": {},
   "outputs": [
    {
     "data": {
      "text/plain": [
       "reviewer_profile      object\n",
       "bio_language          object\n",
       "lang_id1               int64\n",
       "lang_id2               int64\n",
       "lang_id3               int64\n",
       "lang_id4               int64\n",
       "lang_id5               int64\n",
       "lang_id6               int64\n",
       "lang_id7               int64\n",
       "lang_id8               int64\n",
       "lang_id9               int64\n",
       "lang_id10              int64\n",
       "lang_id11              int64\n",
       "lang_id12              int64\n",
       "lang_id13              int64\n",
       "lang_id14              int64\n",
       "lang_id15              int64\n",
       "lang_id16              int64\n",
       "lang_id17              int64\n",
       "lang_id18              int64\n",
       "lang_id19              int64\n",
       "lang_id20              int64\n",
       "lang_id21              int64\n",
       "lang_id22              int64\n",
       "lang_id23              int64\n",
       "lang_id24              int64\n",
       "lang_id25              int64\n",
       "lang_id26              int64\n",
       "lang_id27              int64\n",
       "lang_id28              int64\n",
       "lang_id29              int64\n",
       "lang_id30              int64\n",
       "lang_id31              int64\n",
       "lang_id32              int64\n",
       "lang_id33              int64\n",
       "lang_id34              int64\n",
       "lang_id36              int64\n",
       "lang_id37              int64\n",
       "lang_id38              int64\n",
       "lang_id39              int64\n",
       "lang_id40              int64\n",
       "lang_id41              int64\n",
       "lang_id42              int64\n",
       "lang_id43              int64\n",
       "lang_id44              int64\n",
       "lang_id45              int64\n",
       "lang_id46              int64\n",
       "lang_id47              int64\n",
       "lang_id48              int64\n",
       "lang_id49              int64\n",
       "lang_id50              int64\n",
       "lang_id51              int64\n",
       "lang_id52              int64\n",
       "lang_id53              int64\n",
       "lang_id54              int64\n",
       "lang_id55              int64\n",
       "lang_id56              int64\n",
       "twitter                int64\n",
       "instagram              int64\n",
       "spotify                int64\n",
       "youtu                  int64\n",
       "linktr                 int64\n",
       "srlzd                  int64\n",
       "tiktok                 int64\n",
       "lastfm                 int64\n",
       "pinit                  int64\n",
       "goodreads              int64\n",
       "bsky                   int64\n",
       "facebook               int64\n",
       "tme                    int64\n",
       "tvtime                 int64\n",
       "vimeo                  int64\n",
       "imdb                   int64\n",
       "twitch                 int64\n",
       "rateyourmusic          int64\n",
       "backloggd              int64\n",
       "tumblr                 int64\n",
       "myanimelist            int64\n",
       "letterboxd             int64\n",
       "medium                 int64\n",
       "vsco                   int64\n",
       "anilist                int64\n",
       "soundcloud             int64\n",
       "musicboard             int64\n",
       "pinterest              int64\n",
       "albumoftheyear         int64\n",
       "anchorfm               int64\n",
       "beacons                int64\n",
       "wikipedia              int64\n",
       "behance                int64\n",
       "skoob                  int64\n",
       "substack               int64\n",
       "bitly                  int64\n",
       "podcastsapplecom       int64\n",
       "patreon                int64\n",
       "google                 int64\n",
       "biosite                int64\n",
       "threadsnet             int64\n",
       "name                  object\n",
       "metadata              object\n",
       "full_bio              object\n",
       "has_location           int64\n",
       "location_us            int64\n",
       "engl_can_spelling      int64\n",
       "bio_len                int64\n",
       "num_urls               int64\n",
       "spacy_location        object\n",
       "spacy_us_location    float64\n",
       "dtype: object"
      ]
     },
     "execution_count": 5,
     "metadata": {},
     "output_type": "execute_result"
    }
   ],
   "source": [
    "pd.set_option('display.max_rows', None)  # Show all rows\n",
    "pd.set_option('display.max_columns', None)  # Show all columns\n",
    "# look at all the column types \n",
    "df_en.dtypes\n"
   ]
  },
  {
   "cell_type": "code",
   "execution_count": 6,
   "id": "cb875a70",
   "metadata": {},
   "outputs": [
    {
     "data": {
      "text/plain": [
       "0    en\n",
       "1    no\n",
       "2    en\n",
       "3    en\n",
       "4    en\n",
       "Name: bio_language, dtype: object"
      ]
     },
     "execution_count": 6,
     "metadata": {},
     "output_type": "execute_result"
    }
   ],
   "source": [
    "# Set higher but reasonable limits\n",
    "pd.set_option('display.max_rows', 100)\n",
    "pd.set_option('display.max_columns', 50)\n",
    "df_en['bio_language'].head()"
   ]
  }
 ],
 "metadata": {
  "kernelspec": {
   "display_name": ".venv",
   "language": "python",
   "name": "python3"
  },
  "language_info": {
   "codemirror_mode": {
    "name": "ipython",
    "version": 3
   },
   "file_extension": ".py",
   "mimetype": "text/x-python",
   "name": "python",
   "nbconvert_exporter": "python",
   "pygments_lexer": "ipython3",
   "version": "3.12.3"
  }
 },
 "nbformat": 4,
 "nbformat_minor": 5
}
